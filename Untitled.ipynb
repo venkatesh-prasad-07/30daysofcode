{
 "cells": [
  {
   "cell_type": "code",
   "execution_count": 9,
   "metadata": {},
   "outputs": [
    {
     "name": "stdout",
     "output_type": "stream",
     "text": [
      "['15', '25', '53', 'Sunday', 'Today']\n"
     ]
    }
   ],
   "source": [
    "x = ['25', 'Today', '53', 'Sunday', '15']\n",
    "\n",
    "x.sort()\n",
    "\n",
    "print(x)"
   ]
  },
  {
   "cell_type": "code",
   "execution_count": 14,
   "metadata": {},
   "outputs": [
    {
     "name": "stdout",
     "output_type": "stream",
     "text": [
      "Jello, World!\n"
     ]
    }
   ],
   "source": [
    "a = \"Hello, World!\"\n",
    "print(a.replace(\"H\", \"J\"))"
   ]
  },
  {
   "cell_type": "code",
   "execution_count": 4,
   "metadata": {},
   "outputs": [
    {
     "name": "stdout",
     "output_type": "stream",
     "text": [
      "3\n"
     ]
    }
   ],
   "source": [
    "x=int(\"3\")\n",
    "print(x)"
   ]
  },
  {
   "cell_type": "code",
   "execution_count": 13,
   "metadata": {},
   "outputs": [
    {
     "ename": "IndentationError",
     "evalue": "unexpected indent (<ipython-input-13-e380e860edf0>, line 4)",
     "output_type": "error",
     "traceback": [
      "\u001b[1;36m  File \u001b[1;32m\"<ipython-input-13-e380e860edf0>\"\u001b[1;36m, line \u001b[1;32m4\u001b[0m\n\u001b[1;33m    for i in name:\u001b[0m\n\u001b[1;37m    ^\u001b[0m\n\u001b[1;31mIndentationError\u001b[0m\u001b[1;31m:\u001b[0m unexpected indent\n"
     ]
    }
   ],
   "source": [
    "def demo(*name):\n",
    "    \n",
    "    \"venky raibilli\"\n",
    "     for i in name:\n",
    "            print(i)\n",
    "demo(\"venky\",\"raibilli\")    "
   ]
  },
  {
   "cell_type": "code",
   "execution_count": 4,
   "metadata": {},
   "outputs": [
    {
     "name": "stdout",
     "output_type": "stream",
     "text": [
      "15\n"
     ]
    }
   ],
   "source": [
    "def outerFun(a, b):\n",
    "    \n",
    "    def innerFun(c, d):\n",
    "        \n",
    "        return c + d\n",
    "    \n",
    "    return innerFun(a, b)\n",
    "\n",
    "\n",
    "res = outerFun(5, 10)\n",
    "\n",
    "print(res)"
   ]
  },
  {
   "cell_type": "code",
   "execution_count": 24,
   "metadata": {},
   "outputs": [
    {
     "name": "stdout",
     "output_type": "stream",
     "text": [
      "1\n",
      "3\n"
     ]
    }
   ],
   "source": [
    "rollno=[\"1\",\"2\",\"3\"]\n",
    "for i in range(3):\n",
    "    if rollno[i]==\"2\":\n",
    "        continue\n",
    "    print(rollno[i])\n",
    "    \n",
    "\n",
    "    "
   ]
  },
  {
   "cell_type": "code",
   "execution_count": 30,
   "metadata": {},
   "outputs": [
    {
     "name": "stdout",
     "output_type": "stream",
     "text": [
      "0\n",
      "5\n",
      "10\n",
      "15\n",
      "20\n",
      "25\n",
      "30\n",
      "35\n",
      "40\n",
      "45\n",
      "50\n",
      "55\n",
      "60\n",
      "65\n",
      "70\n",
      "75\n",
      "80\n",
      "85\n",
      "90\n",
      "95\n"
     ]
    }
   ],
   "source": [
    "for i in range(0,100,5):\n",
    "    print(i)"
   ]
  },
  {
   "cell_type": "code",
   "execution_count": 6,
   "metadata": {},
   "outputs": [
    {
     "name": "stdout",
     "output_type": "stream",
     "text": [
      "local\n",
      "global\n",
      "global\n"
     ]
    }
   ],
   "source": [
    "x='global'\n",
    "def f():\n",
    "    x='enclosing'\n",
    "    def g():\n",
    "        x='local'\n",
    "        print(x)\n",
    "g()\n",
    "print(x)\n",
    "f()\n",
    "print(x)"
   ]
  },
  {
   "cell_type": "code",
   "execution_count": 7,
   "metadata": {},
   "outputs": [
    {
     "name": "stdout",
     "output_type": "stream",
     "text": [
      "local\n"
     ]
    }
   ],
   "source": [
    "def f():\n",
    "    x='enclosing'\n",
    "    def g():\n",
    "        x='local'\n",
    "        print(x)\n",
    "    g()\n",
    "f()"
   ]
  },
  {
   "cell_type": "code",
   "execution_count": 1,
   "metadata": {},
   "outputs": [
    {
     "name": "stdout",
     "output_type": "stream",
     "text": [
      "size 0\n"
     ]
    }
   ],
   "source": [
    "class SLList:  \n",
    "    class node:\n",
    "        def __init__(self):\n",
    "            self.element=None\n",
    "            self.next=None\n",
    "    def __init__(self):\n",
    "        self.head=self.node\n",
    "        self.sz=0\n",
    "    def printlist(self):\n",
    "        tnode=self.head\n",
    "        while tnode!=None:\n",
    "            print(tnode.element)\n",
    "            tnode=tnode.next\n",
    "        return\n",
    "    def size(self):\n",
    "        return self.sz\n",
    "    def isempty(self):\n",
    "        return (self.sz==0)\n",
    "def testlist():\n",
    "    list1 = SLList()\n",
    "    print(\"size\",list1.size())\n",
    "def main():\n",
    "    testlist()\n",
    "\n",
    " \n",
    "\n",
    "if __name__ == '__main__':\n",
    "    main()        "
   ]
  },
  {
   "cell_type": "code",
   "execution_count": 2,
   "metadata": {},
   "outputs": [
    {
     "name": "stdout",
     "output_type": "stream",
     "text": [
      "size 0\n",
      "True\n",
      "****\n",
      "4\n",
      "3\n",
      "2\n",
      "1\n",
      "0\n"
     ]
    },
    {
     "ename": "AttributeError",
     "evalue": "type object 'node' has no attribute 'element'",
     "output_type": "error",
     "traceback": [
      "\u001b[1;31m---------------------------------------------------------------------------\u001b[0m",
      "\u001b[1;31mAttributeError\u001b[0m                            Traceback (most recent call last)",
      "\u001b[1;32m<ipython-input-2-6a03fa4de8e1>\u001b[0m in \u001b[0;36m<module>\u001b[1;34m\u001b[0m\n\u001b[0;32m     62\u001b[0m \u001b[1;33m\u001b[0m\u001b[0m\n\u001b[0;32m     63\u001b[0m \u001b[1;32mif\u001b[0m \u001b[0m__name__\u001b[0m \u001b[1;33m==\u001b[0m \u001b[1;34m'__main__'\u001b[0m\u001b[1;33m:\u001b[0m\u001b[1;33m\u001b[0m\u001b[1;33m\u001b[0m\u001b[0m\n\u001b[1;32m---> 64\u001b[1;33m     \u001b[0mmain\u001b[0m\u001b[1;33m(\u001b[0m\u001b[1;33m)\u001b[0m\u001b[1;33m\u001b[0m\u001b[1;33m\u001b[0m\u001b[0m\n\u001b[0m",
      "\u001b[1;32m<ipython-input-2-6a03fa4de8e1>\u001b[0m in \u001b[0;36mmain\u001b[1;34m()\u001b[0m\n\u001b[0;32m     57\u001b[0m     \u001b[0mlist1\u001b[0m\u001b[1;33m.\u001b[0m\u001b[0mprintlist\u001b[0m\u001b[1;33m(\u001b[0m\u001b[1;33m)\u001b[0m\u001b[1;33m\u001b[0m\u001b[1;33m\u001b[0m\u001b[0m\n\u001b[0;32m     58\u001b[0m \u001b[1;32mdef\u001b[0m \u001b[0mmain\u001b[0m\u001b[1;33m(\u001b[0m\u001b[1;33m)\u001b[0m\u001b[1;33m:\u001b[0m\u001b[1;33m\u001b[0m\u001b[1;33m\u001b[0m\u001b[0m\n\u001b[1;32m---> 59\u001b[1;33m     \u001b[0mtestlist\u001b[0m\u001b[1;33m(\u001b[0m\u001b[1;33m)\u001b[0m\u001b[1;33m\u001b[0m\u001b[1;33m\u001b[0m\u001b[0m\n\u001b[0m\u001b[0;32m     60\u001b[0m \u001b[1;33m\u001b[0m\u001b[0m\n\u001b[0;32m     61\u001b[0m \u001b[1;33m\u001b[0m\u001b[0m\n",
      "\u001b[1;32m<ipython-input-2-6a03fa4de8e1>\u001b[0m in \u001b[0;36mtestlist\u001b[1;34m()\u001b[0m\n\u001b[0;32m     47\u001b[0m         \u001b[0mlist1\u001b[0m\u001b[1;33m.\u001b[0m\u001b[0minsertfirst\u001b[0m\u001b[1;33m(\u001b[0m\u001b[0mcurnode\u001b[0m\u001b[1;33m)\u001b[0m\u001b[1;33m\u001b[0m\u001b[1;33m\u001b[0m\u001b[0m\n\u001b[0;32m     48\u001b[0m     \u001b[0mprint\u001b[0m\u001b[1;33m(\u001b[0m\u001b[1;34m\"****\"\u001b[0m\u001b[1;33m)\u001b[0m\u001b[1;33m\u001b[0m\u001b[1;33m\u001b[0m\u001b[0m\n\u001b[1;32m---> 49\u001b[1;33m     \u001b[0mlist1\u001b[0m\u001b[1;33m.\u001b[0m\u001b[0mprintlist\u001b[0m\u001b[1;33m(\u001b[0m\u001b[1;33m)\u001b[0m\u001b[1;33m\u001b[0m\u001b[1;33m\u001b[0m\u001b[0m\n\u001b[0m\u001b[0;32m     50\u001b[0m     \u001b[0mprint\u001b[0m\u001b[1;33m(\u001b[0m\u001b[0mlist1\u001b[0m\u001b[1;33m.\u001b[0m\u001b[0misempty\u001b[0m\u001b[1;33m(\u001b[0m\u001b[1;33m)\u001b[0m\u001b[1;33m)\u001b[0m\u001b[1;33m\u001b[0m\u001b[1;33m\u001b[0m\u001b[0m\n\u001b[0;32m     51\u001b[0m     \u001b[0mprint\u001b[0m\u001b[1;33m(\u001b[0m\u001b[1;34m\"size\"\u001b[0m\u001b[1;33m,\u001b[0m\u001b[0mlist1\u001b[0m\u001b[1;33m.\u001b[0m\u001b[0msize\u001b[0m\u001b[1;33m(\u001b[0m\u001b[1;33m)\u001b[0m\u001b[1;33m)\u001b[0m\u001b[1;33m\u001b[0m\u001b[1;33m\u001b[0m\u001b[0m\n",
      "\u001b[1;32m<ipython-input-2-6a03fa4de8e1>\u001b[0m in \u001b[0;36mprintlist\u001b[1;34m(self)\u001b[0m\n\u001b[0;32m     10\u001b[0m         \u001b[0mtnode\u001b[0m\u001b[1;33m=\u001b[0m\u001b[0mself\u001b[0m\u001b[1;33m.\u001b[0m\u001b[0mhead\u001b[0m\u001b[1;33m\u001b[0m\u001b[1;33m\u001b[0m\u001b[0m\n\u001b[0;32m     11\u001b[0m         \u001b[1;32mwhile\u001b[0m \u001b[0mtnode\u001b[0m\u001b[1;33m!=\u001b[0m\u001b[1;32mNone\u001b[0m\u001b[1;33m:\u001b[0m\u001b[1;33m\u001b[0m\u001b[1;33m\u001b[0m\u001b[0m\n\u001b[1;32m---> 12\u001b[1;33m             \u001b[0mprint\u001b[0m\u001b[1;33m(\u001b[0m\u001b[0mtnode\u001b[0m\u001b[1;33m.\u001b[0m\u001b[0melement\u001b[0m\u001b[1;33m)\u001b[0m\u001b[1;33m\u001b[0m\u001b[1;33m\u001b[0m\u001b[0m\n\u001b[0m\u001b[0;32m     13\u001b[0m             \u001b[0mtnode\u001b[0m\u001b[1;33m=\u001b[0m\u001b[0mtnode\u001b[0m\u001b[1;33m.\u001b[0m\u001b[0mnext\u001b[0m\u001b[1;33m\u001b[0m\u001b[1;33m\u001b[0m\u001b[0m\n\u001b[0;32m     14\u001b[0m         \u001b[1;32mreturn\u001b[0m\u001b[1;33m\u001b[0m\u001b[1;33m\u001b[0m\u001b[0m\n",
      "\u001b[1;31mAttributeError\u001b[0m: type object 'node' has no attribute 'element'"
     ]
    }
   ],
   "source": [
    "class SLList:\n",
    "    class node:\n",
    "        def __init__(self):\n",
    "            self.element=None\n",
    "            self.next=None\n",
    "    def __init__(self):\n",
    "        self.head=self.node\n",
    "        self.sz=0\n",
    "    def printlist(self):\n",
    "        tnode=self.head\n",
    "        while tnode!=None:\n",
    "            print(tnode.element)\n",
    "            tnode=tnode.next\n",
    "        return\n",
    "    def size(self):\n",
    "        return self.sz\n",
    "    def isempty(self):\n",
    "        return (self.sz==0)\n",
    "    def insertfirst(self,u):\n",
    "        u.next=self.head\n",
    "        self.head=u\n",
    "        self.sz+=1\n",
    "        return\n",
    "    def deletefirst(self):\n",
    "        if self.size()!=0:\n",
    "            temp=self.node()\n",
    "            temp=self.head\n",
    "            head=head.next\n",
    "            temp.next=None\n",
    "            self.sz-=1\n",
    "        elif self.size()==1:\n",
    "            self.head.element=u.element\n",
    "            self.sz-=1\n",
    "        else:\n",
    "            return(\"list is isempty\")\n",
    "\n",
    " \n",
    "\n",
    "        return\n",
    "def testlist():\n",
    "    list1 = SLList()\n",
    "    print(\"size\",list1.size())\n",
    "    print(list1.isempty())\n",
    "    for i in range(5):\n",
    "        curnode=list1.node()\n",
    "        curnode.element=i\n",
    "        list1.insertfirst(curnode)\n",
    "    print(\"****\")\n",
    "    list1.printlist()\n",
    "    print(list1.isempty())\n",
    "    print(\"size\",list1.size())\n",
    "    \"\"\"print(\"size\",list1.size())\"\"\"\n",
    "    for i in range(2):\n",
    "        curnode=list1.node()\n",
    "        curnode.element=i\n",
    "        list1.deletefirst()\n",
    "    list1.printlist()\n",
    "def main():\n",
    "    testlist()\n",
    "\n",
    " \n",
    "\n",
    "if __name__ == '__main__':\n",
    "    main()"
   ]
  },
  {
   "cell_type": "code",
   "execution_count": null,
   "metadata": {},
   "outputs": [],
   "source": []
  }
 ],
 "metadata": {
  "kernelspec": {
   "display_name": "Python 3",
   "language": "python",
   "name": "python3"
  },
  "language_info": {
   "codemirror_mode": {
    "name": "ipython",
    "version": 3
   },
   "file_extension": ".py",
   "mimetype": "text/x-python",
   "name": "python",
   "nbconvert_exporter": "python",
   "pygments_lexer": "ipython3",
   "version": "3.7.6"
  }
 },
 "nbformat": 4,
 "nbformat_minor": 4
}
